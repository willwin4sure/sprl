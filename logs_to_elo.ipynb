{
 "cells": [
  {
   "cell_type": "code",
   "execution_count": 3,
   "metadata": {},
   "outputs": [],
   "source": [
    "import numpy as np\n",
    "import matplotlib.pyplot as plt\n",
    "import seaborn as sns\n",
    "\n",
    "np.random.seed(101)"
   ]
  },
  {
   "cell_type": "code",
   "execution_count": 4,
   "metadata": {},
   "outputs": [],
   "source": [
    "win_counts = np.array([\n",
    "    [0.0, 14.0, 29.5, 20.5, 3.5, 5.5],\n",
    "    [754.0, 0.0, 94.5, 205.5, 115.5, 91.0],\n",
    "    [738.5, 673.5, 0.0, 222.5, 199.0, 303.5],\n",
    "    [747.5, 562.5, 545.5, 0.0, 396.5, 247.5],\n",
    "    [764.5, 652.5, 569.0, 371.5, 0.0, 250.0],\n",
    "    [762.5, 677.0, 464.5, 520.5, 518.0, 0.0]\n",
    "])\n",
    "\n",
    "# win_rates = wins_to_winrates(win_counts)\n",
    "# print(win_rates)\n",
    "# print()\n",
    "# elos = winrates_to_elos(win_rates)\n",
    "# print(elos)"
   ]
  },
  {
   "cell_type": "code",
   "execution_count": 5,
   "metadata": {},
   "outputs": [],
   "source": [
    "def wins_to_winrates(win_counts):\n",
    "    total_games = win_counts[0, 1] + win_counts[1, 0]\n",
    "    win_rates = win_counts / total_games if total_games > 0 else np.zeros_like(win_counts, dtype=float)\n",
    "    return win_rates"
   ]
  },
  {
   "cell_type": "code",
   "execution_count": 6,
   "metadata": {},
   "outputs": [],
   "source": [
    "def winrates_to_odds(win_rates):\n",
    "    odds = win_rates / (1 - win_rates)\n",
    "    return odds"
   ]
  },
  {
   "cell_type": "code",
   "execution_count": 7,
   "metadata": {},
   "outputs": [],
   "source": [
    "# This is scuffed, doesn't really work. \n",
    "# ELO is not win-order invariant\n",
    "def winrates_to_elos(win_rates, initial_rating=0, k_factor=32, max_iterations=1000, tolerance=1e-4):\n",
    "    \"\"\"\n",
    "    k_factor: Maximum possible adjusment per game \n",
    "    max_iterations: Maximum number of iterations to perform\n",
    "    tolerance: the algorithm stops if the max change in any rating is below this threshold\n",
    "    \"\"\"\n",
    "    \n",
    "    num_bots = win_rates.shape[0]\n",
    "    ratings = np.full(num_bots, initial_rating, dtype=float)\n",
    "    temp_ratings = ratings.copy()\n",
    "\n",
    "    for _ in range(max_iterations):\n",
    "        max_change = 0\n",
    "        for i in range(num_bots):\n",
    "            for j in range(num_bots):\n",
    "                if i != j:\n",
    "                    expected = 1 / (1 + 10 ** ((ratings[j] - ratings[i]) / 400)) # s = 400 (scaling factor)\n",
    "                    actual = win_rates[j, i]\n",
    "\n",
    "                    rating_change = k_factor * (actual - expected) \n",
    "                    temp_ratings[i] += rating_change # R -> R + K(S - E)\n",
    "                    max_change = max(max_change, abs(rating_change))\n",
    "        \n",
    "        ratings = temp_ratings.copy() # Update ratings\n",
    "\n",
    "        if max_change < tolerance: # changes star of large, get small\n",
    "            break\n",
    "\n",
    "    return ratings\n",
    "\n"
   ]
  },
  {
   "cell_type": "code",
   "execution_count": 8,
   "metadata": {},
   "outputs": [],
   "source": [
    "def parse_game_log(file_path):\n",
    "    game_logs = []\n",
    "    with open(file_path, 'r') as file:\n",
    "        for line in file:\n",
    "            line = line.strip()  # Remove any leading/trailing whitespace\n",
    "            parts = line.split()  # Split the line into parts\n",
    "            \n",
    "            if len(parts) == 3:  # Ensure the line is correctly formatted\n",
    "                player_i = int(parts[0])  # First part: index of player i\n",
    "                player_j = int(parts[1])  # Second part: index of player j\n",
    "                result = int(parts[2])  # Third part: game result (-1, 0, 1)\n",
    "\n",
    "                # Create a dictionary for this game log\n",
    "                game_log = {\n",
    "                    'player_i': player_i,\n",
    "                    'player_j': player_j,\n",
    "                    'result': result\n",
    "                }\n",
    "\n",
    "                # Append the dictionary to the list\n",
    "                game_logs.append(game_log)\n",
    "\n",
    "    return game_logs\n"
   ]
  },
  {
   "cell_type": "code",
   "execution_count": null,
   "metadata": {},
   "outputs": [],
   "source": [
    "def update_elo(ratings, player_i, player_j, result, k=32):\n",
    "    # Calculate expected scores\n",
    "    E_i = 1 / (1 + 10 ** ((ratings[player_j] - ratings[player_i]) / 400))\n",
    "    E_j = 1 / (1 + 10 ** ((ratings[player_i] - ratings[player_j]) / 400))\n",
    "\n",
    "   \n",
    "    if result == 0:  # Player i wins\n",
    "        S_i, S_j = 1, 0\n",
    "    elif result == 1:  \n",
    "        S_i, S_j = 0, 1\n",
    "    else:  # Draw\n",
    "        S_i, S_j = 0.5, 0.5\n",
    "\n",
    "    # Update ratings\n",
    "    ratings[player_i] += k * (S_i - E_i)\n",
    "    ratings[player_j] += k * (S_j - E_j)"
   ]
  },
  {
   "cell_type": "code",
   "execution_count": null,
   "metadata": {},
   "outputs": [],
   "source": [
    "def compute_elo_from_logs(game_logs):\n",
    "\n",
    "    # Initialize ratings (assuming no player indices beyond what's seen in the logs)\n",
    "    ratings = {}\n",
    "    for log in game_logs:\n",
    "        ratings[log['player_i']] = 1500\n",
    "        ratings[log['player_j']] = 1500\n",
    "\n",
    "    np.random.shuffle(game_logs)\n",
    "\n",
    "    # Process each game\n",
    "    for log in game_logs:\n",
    "        update_elo(ratings, log['player_i'], log['player_j'], log['result'])\n",
    "\n",
    "    return ratings\n"
   ]
  },
  {
   "cell_type": "code",
   "execution_count": null,
   "metadata": {},
   "outputs": [],
   "source": [
    "logs_file_apth = \"need file\"\n",
    "#will need to iterate over logs\n",
    "\n",
    "game_logs = parse_game_log(logs_file_apth)\n",
    "\n",
    "elos = compute_elo_from_logs(game_logs)\n",
    "\n",
    "print(elos)"
   ]
  }
 ],
 "metadata": {
  "kernelspec": {
   "display_name": "Python 3",
   "language": "python",
   "name": "python3"
  },
  "language_info": {
   "codemirror_mode": {
    "name": "ipython",
    "version": 3
   },
   "file_extension": ".py",
   "mimetype": "text/x-python",
   "name": "python",
   "nbconvert_exporter": "python",
   "pygments_lexer": "ipython3",
   "version": "3.12.1"
  }
 },
 "nbformat": 4,
 "nbformat_minor": 2
}
