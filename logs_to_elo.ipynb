{
 "cells": [
  {
   "cell_type": "code",
   "execution_count": 121,
   "metadata": {},
   "outputs": [],
   "source": [
    "import numpy as np\n",
    "import matplotlib.pyplot as plt\n",
    "import seaborn as sns\n",
    "import pickle\n"
   ]
  },
  {
   "cell_type": "code",
   "execution_count": 115,
   "metadata": {},
   "outputs": [],
   "source": [
    "win_counts = np.array([\n",
    "    [0.0, 14.0, 29.5, 20.5, 3.5, 5.5],\n",
    "    [754.0, 0.0, 94.5, 205.5, 115.5, 91.0],\n",
    "    [738.5, 673.5, 0.0, 222.5, 199.0, 303.5],\n",
    "    [747.5, 562.5, 545.5, 0.0, 396.5, 247.5],\n",
    "    [764.5, 652.5, 569.0, 371.5, 0.0, 250.0],\n",
    "    [762.5, 677.0, 464.5, 520.5, 518.0, 0.0]\n",
    "])\n",
    "\n",
    "\n",
    "path = \"/Users/kartikpingle/Desktop/gorilla_ablation\"\n",
    "\n",
    "# this folder contains 4 folders: 0, 1, 2, 3\n",
    "# 0 contains folders from 0 to 95\n",
    "# 1 contains folders from 96 to 191\n",
    "# 2 contains folders from 192 to 287\n",
    "# 3 contains folders from 288 to 383\n",
    "# all innermost folders have logs.txt files\n",
    "\n",
    "for i in range(4):\n",
    "    for j in range(96):\n",
    "        with open(f\"{path}/{i}/{i * 96 + j}/log.txt\", \"r\") as f:\n",
    "            with open(\"ALL_LOGS.txt\", \"a\") as f2:\n",
    "                f2.write(f.read())\n",
    "\n"
   ]
  },
  {
   "cell_type": "code",
   "execution_count": 116,
   "metadata": {},
   "outputs": [],
   "source": [
    "def parse_game_log(file_path):\n",
    "    game_logs = []\n",
    "    with open(file_path, 'r') as file:\n",
    "        for line in file:\n",
    "            line = line.strip()  # Remove any leading/trailing whitespace\n",
    "            parts = line.split()  # Split the line into parts\n",
    "            \n",
    "            if len(parts) == 3:  # Ensure the line is correctly formatted\n",
    "                player_i = int(parts[0])  # First part: index of player i\n",
    "                player_j = int(parts[1])  # Second part: index of player j\n",
    "                result = int(parts[2])  # Third part: game result (-1, 0, 1)\n",
    "\n",
    "                # Create a dictionary for this game log\n",
    "                game_log = {\n",
    "                    'player_i': player_i,\n",
    "                    'player_j': player_j,\n",
    "                    'result': result\n",
    "                }\n",
    "\n",
    "                # Append the dictionary to the list\n",
    "                game_logs.append(game_log)\n",
    "\n",
    "    return game_logs\n"
   ]
  },
  {
   "cell_type": "code",
   "execution_count": 117,
   "metadata": {},
   "outputs": [],
   "source": [
    "def update_elo(ratings, player_i, player_j, result, k=32):\n",
    "    # Calculate expected scores\n",
    "    E_i = 1 / (1 + 10 ** ((ratings[player_j] - ratings[player_i]) / 400))\n",
    "    E_j = 1 / (1 + 10 ** ((ratings[player_i] - ratings[player_j]) / 400))\n",
    "\n",
    "   \n",
    "    if result == 0:  # Player i wins\n",
    "        S_i, S_j = 1, 0\n",
    "    elif result == 1:  \n",
    "        S_i, S_j = 0, 1\n",
    "    else:  # Draw\n",
    "        S_i, S_j = 0.5, 0.5\n",
    "\n",
    "    # Update ratings\n",
    "    ratings[player_i] += k * (S_i - E_i)\n",
    "    ratings[player_j] += k * (S_j - E_j)"
   ]
  },
  {
   "cell_type": "code",
   "execution_count": 118,
   "metadata": {},
   "outputs": [],
   "source": [
    "def compute_elo_from_logs(game_logs):\n",
    "\n",
    "    # Initialize ratings (assuming no player indices beyond what's seen in the logs)\n",
    "    ratings = {}\n",
    "    for log in game_logs:\n",
    "        ratings[log['player_i']] = 1500\n",
    "        ratings[log['player_j']] = 1500\n",
    "    np.random.seed(101)\n",
    "    np.random.shuffle(game_logs)\n",
    "\n",
    "    # Process each game\n",
    "    for log in game_logs:\n",
    "        update_elo(ratings, log['player_i'], log['player_j'], log['result'])\n",
    "\n",
    "    return ratings\n"
   ]
  },
  {
   "cell_type": "code",
   "execution_count": 122,
   "metadata": {},
   "outputs": [
    {
     "name": "stdout",
     "output_type": "stream",
     "text": [
      "Bot 0 has an ELO: 1052.2069296280213\n",
      "Bot 1 has an ELO: 1410.6355854118765\n",
      "Bot 2 has an ELO: 1332.3077033617685\n",
      "Bot 3 has an ELO: 1360.8330673685077\n",
      "Bot 4 has an ELO: 1407.0138086517634\n",
      "Bot 5 has an ELO: 1550.2207253043155\n",
      "Bot 6 has an ELO: 1259.132270137405\n",
      "Bot 7 has an ELO: 1489.1780552809691\n",
      "Bot 8 has an ELO: 1560.0377678459859\n",
      "Bot 9 has an ELO: 1379.2433444937942\n",
      "Bot 10 has an ELO: 1435.843415796157\n",
      "Bot 11 has an ELO: 1290.2803515686276\n",
      "Bot 12 has an ELO: 1430.7334017807884\n",
      "Bot 13 has an ELO: 1383.273028858832\n",
      "Bot 14 has an ELO: 1373.4208436487972\n",
      "Bot 15 has an ELO: 1393.3646631507445\n",
      "Bot 16 has an ELO: 1474.5957937115513\n",
      "Bot 17 has an ELO: 1393.800731305565\n",
      "Bot 18 has an ELO: 1554.1789176089549\n",
      "Bot 19 has an ELO: 1720.2500070472158\n",
      "Bot 20 has an ELO: 1760.4385780592468\n",
      "Bot 21 has an ELO: 1257.8800400838916\n",
      "Bot 22 has an ELO: 1436.152481986947\n",
      "Bot 23 has an ELO: 1472.5599448632152\n",
      "Bot 24 has an ELO: 1636.028482993384\n",
      "Bot 25 has an ELO: 1633.8374499180238\n",
      "Bot 26 has an ELO: 1450.8385162958841\n",
      "Bot 27 has an ELO: 1852.3456113895006\n",
      "Bot 28 has an ELO: 1885.536046140135\n",
      "Bot 29 has an ELO: 1930.1124392915228\n",
      "Bot 30 has an ELO: 1933.7199970166168\n"
     ]
    }
   ],
   "source": [
    "logs_file_oath = \"ALL_LOGS.txt\"\n",
    "\n",
    "game_logs = parse_game_log(logs_file_oath)\n",
    "\n",
    "elos = compute_elo_from_logs(game_logs)\n",
    "\n",
    "for elo in elos:\n",
    "    print(f\"Bot {elo} has an ELO: {elos[elo]}\")\n",
    "\n",
    "# save elos to a pickle\n",
    "with open('elos.pkl', 'wb') as f:\n",
    "    pickle.dump(elos, f)\n",
    "\n"
   ]
  },
  {
   "cell_type": "code",
   "execution_count": null,
   "metadata": {},
   "outputs": [],
   "source": []
  },
  {
   "cell_type": "code",
   "execution_count": 120,
   "metadata": {},
   "outputs": [],
   "source": [
    "# open the file, plug it into "
   ]
  }
 ],
 "metadata": {
  "kernelspec": {
   "display_name": "Python 3",
   "language": "python",
   "name": "python3"
  },
  "language_info": {
   "codemirror_mode": {
    "name": "ipython",
    "version": 3
   },
   "file_extension": ".py",
   "mimetype": "text/x-python",
   "name": "python",
   "nbconvert_exporter": "python",
   "pygments_lexer": "ipython3",
   "version": "3.12.1"
  }
 },
 "nbformat": 4,
 "nbformat_minor": 2
}
