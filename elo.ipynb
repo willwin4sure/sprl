{
 "cells": [
  {
   "cell_type": "code",
   "execution_count": 24,
   "id": "61583c80",
   "metadata": {},
   "outputs": [],
   "source": [
    "import pickle\n",
    "\n",
    "filename = \"ALL_LOGS.txt\"\n"
   ]
  },
  {
   "cell_type": "code",
   "execution_count": 3,
   "id": "1728845c-2c61-41c6-a0a6-6bae39c5b014",
   "metadata": {},
   "outputs": [],
   "source": [
    "def calc_pr(players):\n",
    "    pr = {}\n",
    "    for player, (elo, score, games) in players.items():\n",
    "        avg_opp = sum(e for p, (e, s, g) in players.items() if p != player)\n",
    "        pr[player] = (avg_opp + 400 * score) / games\n",
    "    return pr"
   ]
  },
  {
   "cell_type": "code",
   "execution_count": 4,
   "id": "bc7e86af",
   "metadata": {},
   "outputs": [],
   "source": [
    "def process_results(filename):\n",
    "    players = {}  # Initialize an empty dictionary for players\n",
    "    \n",
    "    with open(filename, 'r') as file:\n",
    "        for line in file:\n",
    "            data = line.split()  # Split each line by spaces\n",
    "            if len(data) < 3:\n",
    "                continue  # Skip lines that don't have enough data\n",
    "            \n",
    "            i, j, outcome = data[0], data[1], int(data[2])\n",
    "            \n",
    "            # Ensure both players are in the dictionary\n",
    "            if i not in players:\n",
    "                players[i] = [0, 0]  # Score, Games\n",
    "            if j not in players:\n",
    "                players[j] = [0, 0]  # Score, Games\n",
    "            \n",
    "            # Update games played\n",
    "            players[i][1] += 1\n",
    "            players[j][1] += 1\n",
    "            \n",
    "            # Update scores based on the outcome\n",
    "            if outcome == 0:  # Player i wins\n",
    "                players[i][0] += 1\n",
    "                players[j][0] -= 1\n",
    "            elif outcome == 1:  # Player j wins\n",
    "                players[j][0] += 1\n",
    "                players[i][0] -= 1\n",
    "            # No score change if it's a draw (-1)\n",
    "\n",
    "    return players"
   ]
  },
  {
   "cell_type": "code",
   "execution_count": 10,
   "id": "ef726ad8",
   "metadata": {},
   "outputs": [
    {
     "name": "stdout",
     "output_type": "stream",
     "text": [
      "{'0': [-141816, 184320], '1': [-51976, 184320], '2': [-46240, 184320], '3': [-37656, 184320], '4': [-34808, 184320], '5': [10976, 184320], '6': [-87888, 184320], '7': [-13944, 184320], '8': [24888, 184320], '9': [-6952, 184320], '10': [21496, 184320], '11': [-78168, 184320], '12': [-34136, 184320], '13': [-60248, 184320], '14': [-38336, 184320], '15': [-11352, 184320], '16': [-60352, 184320], '17': [-37680, 184320], '18': [13464, 184320], '19': [74104, 184320], '20': [106184, 184320], '21': [-91152, 184320], '22': [-14016, 184320], '23': [4440, 184320], '24': [27624, 184320], '25': [46072, 184320], '26': [-14256, 184320], '27': [100416, 184320], '28': [139432, 184320], '29': [141440, 184320], '30': [150440, 184320]}\n"
     ]
    }
   ],
   "source": [
    "players = process_results(filename)\n"
   ]
  },
  {
   "cell_type": "code",
   "execution_count": 6,
   "id": "a859043d-3899-4ced-88cf-122399738198",
   "metadata": {},
   "outputs": [],
   "source": [
    "# calc_pr({'a': (1000, 0, 2), 'b': (1000, -1, 2), 'c': (1000, 1, 2)})"
   ]
  },
  {
   "cell_type": "code",
   "execution_count": 19,
   "id": "9305af65-975a-4c3b-a126-1045c9873a76",
   "metadata": {},
   "outputs": [],
   "source": [
    "def calc_elo(players, num_iter=10):\n",
    "    '''\n",
    "    Calculates relative elo such that all players have a elo equal to their performance rating\n",
    "\n",
    "    players: dict of key: <player_name>, value: tuple (<score>, <games>) where score is (#wins - #losses) and games is number of games played\n",
    "    i.e. a player that wins all games has score == games and a player that loses all games has score == -games\n",
    "    requries that no player have won all or lost all games for convergence (otherwise elo = +- infinity)\n",
    "    '''\n",
    "    d = {player : (1000, score, games) for player, (score, games) in players.items()}\n",
    "    for i in range(num_iter):\n",
    "        pr = calc_pr(d)\n",
    "        d = {player: (pr[player], score, games) for player, (elo, score, games) in d.items()}\n",
    "        # d = {player:pr[player] for player, _ in d.items()}\n",
    "    return d"
   ]
  },
  {
   "cell_type": "code",
   "execution_count": 8,
   "id": "e32ddb69-7115-4050-a533-05692f749f57",
   "metadata": {},
   "outputs": [],
   "source": [
    "# calc_elo({'a': (0, 2), 'b': (-1, 2), 'c': (1, 2)}, 10)"
   ]
  },
  {
   "cell_type": "code",
   "execution_count": 25,
   "id": "25277102-0ff6-4eb9-9197-abf0bf1b0e94",
   "metadata": {},
   "outputs": [],
   "source": [
    "elo_other = calc_elo(players, 10)\n",
    "\n",
    "idx_to_name = {\n",
    "    \"0\": \"random\",\n",
    "    \"1\": \"none_1_itrs\",\n",
    "    \"2\": \"none_2_itrs\",\n",
    "    \"3\": \"none_3_itrs\",\n",
    "    \"4\": \"none_4_itrs\",\n",
    "    \"5\": \"none_5_itrs\",\n",
    "    \"6\": \"linear_1_itrs\",\n",
    "    \"7\": \"linear_2_itrs\",\n",
    "    \"8\": \"linear_3_itrs\",\n",
    "    \"9\": \"linear_4_itrs\",\n",
    "    \"10\": \"linear_5_itrs\",\n",
    "    \"11\": \"pq_1_itrs\",\n",
    "    \"12\": \"pq_2_itrs\",\n",
    "    \"13\": \"pq_3_itrs\",\n",
    "    \"14\": \"pq_4_itrs\",\n",
    "    \"15\": \"pq_5_itrs\",\n",
    "    \"16\": \"reset_1_itrs\",\n",
    "    \"17\": \"reset_2_itrs\",\n",
    "    \"18\": \"reset_3_itrs\",\n",
    "    \"19\": \"reset_4_itrs\",\n",
    "    \"20\": \"reset_5_itrs\",\n",
    "    \"21\": \"sym_1_itrs\",\n",
    "    \"22\": \"sym_2_itrs\",\n",
    "    \"23\": \"sym_3_itrs\",\n",
    "    \"24\": \"sym_4_itrs\",\n",
    "    \"25\": \"sym_5_itrs\",\n",
    "    \"26\": \"flamingo_1_itrs\",\n",
    "    \"27\": \"flamingo_2_itrs\",\n",
    "    \"28\": \"flamingo_3_itrs\",\n",
    "    \"29\": \"flamingo_4_itrs\",\n",
    "    \"30\": \"flamingo_5_itrs\"\n",
    "}\n",
    "\n",
    "elo = {}\n",
    "for key in elo_other:\n",
    "    elo[idx_to_name[key]] = elo_other[key][0]\n",
    "\n",
    "# write to pickle\n",
    "with open('elos_2.pkl', 'wb') as f:\n",
    "    pickle.dump(elo, f)"
   ]
  }
 ],
 "metadata": {
  "kernelspec": {
   "display_name": "Python 3 (ipykernel)",
   "language": "python",
   "name": "python3"
  },
  "language_info": {
   "codemirror_mode": {
    "name": "ipython",
    "version": 3
   },
   "file_extension": ".py",
   "mimetype": "text/x-python",
   "name": "python",
   "nbconvert_exporter": "python",
   "pygments_lexer": "ipython3",
   "version": "3.12.1"
  }
 },
 "nbformat": 4,
 "nbformat_minor": 5
}
