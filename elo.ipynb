{
 "cells": [
  {
   "cell_type": "code",
   "execution_count": 1,
   "id": "61583c80",
   "metadata": {},
   "outputs": [],
   "source": [
    "import pickle\n",
    "\n",
    "filename = \"ALL_LOGS.txt\"\n"
   ]
  },
  {
   "cell_type": "code",
   "execution_count": 15,
   "id": "1728845c-2c61-41c6-a0a6-6bae39c5b014",
   "metadata": {},
   "outputs": [],
   "source": [
    "def calc_pr(players):\n",
    "    pr = {}\n",
    "    for player, (elo, score, games) in players.items():\n",
    "        avg_opp = sum(e for p, (e, s, g) in players.items() if p != player) / (len(players) - 1)\n",
    "        pr[player] = avg_opp + 400 * score / games\n",
    "        \n",
    "    return pr"
   ]
  },
  {
   "cell_type": "code",
   "execution_count": 3,
   "id": "bc7e86af",
   "metadata": {},
   "outputs": [],
   "source": [
    "def process_results(filename):\n",
    "    players = {}  # Initialize an empty dictionary for players\n",
    "    \n",
    "    with open(filename, 'r') as file:\n",
    "        for line in file:\n",
    "            data = line.split()  # Split each line by spaces\n",
    "            if len(data) < 3:\n",
    "                continue  # Skip lines that don't have enough data\n",
    "            \n",
    "            i, j, outcome = data[0], data[1], int(data[2])\n",
    "            \n",
    "            # Ensure both players are in the dictionary\n",
    "            if i not in players:\n",
    "                players[i] = [0, 0]  # Score, Games\n",
    "            if j not in players:\n",
    "                players[j] = [0, 0]  # Score, Games\n",
    "            \n",
    "            # Update games played\n",
    "            players[i][1] += 1\n",
    "            players[j][1] += 1\n",
    "            \n",
    "            # Update scores based on the outcome\n",
    "            if outcome == 0:  # Player i wins\n",
    "                players[i][0] += 1\n",
    "                players[j][0] -= 1\n",
    "            elif outcome == 1:  # Player j wins\n",
    "                players[j][0] += 1\n",
    "                players[i][0] -= 1\n",
    "            # No score change if it's a draw (-1)\n",
    "\n",
    "    return players"
   ]
  },
  {
   "cell_type": "code",
   "execution_count": 4,
   "id": "ef726ad8",
   "metadata": {},
   "outputs": [],
   "source": [
    "players = process_results(filename)\n"
   ]
  },
  {
   "cell_type": "code",
   "execution_count": 10,
   "id": "09bbd661",
   "metadata": {},
   "outputs": [
    {
     "data": {
      "text/plain": [
       "{'0': [-141816, 184320],\n",
       " '1': [-51976, 184320],\n",
       " '2': [-46240, 184320],\n",
       " '3': [-37656, 184320],\n",
       " '4': [-34808, 184320],\n",
       " '5': [10976, 184320],\n",
       " '6': [-87888, 184320],\n",
       " '7': [-13944, 184320],\n",
       " '8': [24888, 184320],\n",
       " '9': [-6952, 184320],\n",
       " '10': [21496, 184320],\n",
       " '11': [-78168, 184320],\n",
       " '12': [-34136, 184320],\n",
       " '13': [-60248, 184320],\n",
       " '14': [-38336, 184320],\n",
       " '15': [-11352, 184320],\n",
       " '16': [-60352, 184320],\n",
       " '17': [-37680, 184320],\n",
       " '18': [13464, 184320],\n",
       " '19': [74104, 184320],\n",
       " '20': [106184, 184320],\n",
       " '21': [-91152, 184320],\n",
       " '22': [-14016, 184320],\n",
       " '23': [4440, 184320],\n",
       " '24': [27624, 184320],\n",
       " '25': [46072, 184320],\n",
       " '26': [-14256, 184320],\n",
       " '27': [100416, 184320],\n",
       " '28': [139432, 184320],\n",
       " '29': [141440, 184320],\n",
       " '30': [150440, 184320]}"
      ]
     },
     "execution_count": 10,
     "metadata": {},
     "output_type": "execute_result"
    }
   ],
   "source": [
    "players"
   ]
  },
  {
   "cell_type": "code",
   "execution_count": 5,
   "id": "a859043d-3899-4ced-88cf-122399738198",
   "metadata": {},
   "outputs": [],
   "source": [
    "# calc_pr({'a': (1000, 0, 2), 'b': (1000, -1, 2), 'c': (1000, 1, 2)})"
   ]
  },
  {
   "cell_type": "code",
   "execution_count": 6,
   "id": "9305af65-975a-4c3b-a126-1045c9873a76",
   "metadata": {},
   "outputs": [],
   "source": [
    "def calc_elo(players, num_iter=10):\n",
    "    '''\n",
    "    Calculates relative elo such that all players have a elo equal to their performance rating\n",
    "\n",
    "    players: dict of key: <player_name>, value: tuple (<score>, <games>) where score is (#wins - #losses) and games is number of games played\n",
    "    i.e. a player that wins all games has score == games and a player that loses all games has score == -games\n",
    "    requries that no player have won all or lost all games for convergence (otherwise elo = +- infinity)\n",
    "    '''\n",
    "    d = {player : (1000, score, games) for player, (score, games) in players.items()}\n",
    "    for i in range(num_iter):\n",
    "        pr = calc_pr(d)\n",
    "        d = {player: (pr[player], score, games) for player, (elo, score, games) in d.items()}\n",
    "        # d = {player:pr[player] for player, _ in d.items()}\n",
    "    return d"
   ]
  },
  {
   "cell_type": "code",
   "execution_count": 7,
   "id": "e32ddb69-7115-4050-a533-05692f749f57",
   "metadata": {},
   "outputs": [],
   "source": [
    "# calc_elo({'a': (0, 2), 'b': (-1, 2), 'c': (1, 2)}, 10)"
   ]
  },
  {
   "cell_type": "code",
   "execution_count": 17,
   "id": "c8c4f1a3",
   "metadata": {},
   "outputs": [
    {
     "name": "stdout",
     "output_type": "stream",
     "text": [
      "30000\n",
      "30000\n",
      "30000\n",
      "30000\n",
      "30000\n",
      "30000\n",
      "30000\n",
      "30000\n",
      "30000\n",
      "30000\n",
      "30000\n",
      "30000\n",
      "30000\n",
      "30000\n",
      "30000\n",
      "30000\n",
      "30000\n",
      "30000\n",
      "30000\n",
      "30000\n",
      "30000\n",
      "30000\n",
      "30000\n",
      "30000\n",
      "30000\n",
      "30000\n",
      "30000\n",
      "30000\n",
      "30000\n",
      "30000\n",
      "30000\n"
     ]
    },
    {
     "data": {
      "text/plain": [
       "{'0': (-307.59765625, -141816, 184320),\n",
       " '1': (-112.63237847222223, -51976, 184320),\n",
       " '2': (-100.18446180555556, -46240, 184320),\n",
       " '3': (-81.55598958333333, -37656, 184320),\n",
       " '4': (-75.37543402777777, -34808, 184320),\n",
       " '5': (23.98220486111111, 10976, 184320),\n",
       " '6': (-190.56640625, -87888, 184320),\n",
       " '7': (-30.09765625, -13944, 184320),\n",
       " '8': (54.173177083333336, 24888, 184320),\n",
       " '9': (-14.92404513888889, -6952, 184320),\n",
       " '10': (46.81206597222222, 21496, 184320),\n",
       " '11': (-169.47265625, -78168, 184320),\n",
       " '12': (-73.91710069444444, -34136, 184320),\n",
       " '13': (-130.58376736111111, -60248, 184320),\n",
       " '14': (-83.03168402777777, -38336, 184320),\n",
       " '15': (-24.47265625, -11352, 184320),\n",
       " '16': (-130.80946180555554, -60352, 184320),\n",
       " '17': (-81.60807291666667, -37680, 184320),\n",
       " '18': (29.381510416666668, 13464, 184320),\n",
       " '19': (160.97873263888889, 74104, 184320),\n",
       " '20': (230.59678819444446, 106184, 184320),\n",
       " '21': (-197.64973958333334, -91152, 184320),\n",
       " '22': (-30.25390625, -14016, 184320),\n",
       " '23': (9.798177083333334, 4440, 184320),\n",
       " '24': (60.110677083333336, 27624, 184320),\n",
       " '25': (100.14539930555556, 46072, 184320),\n",
       " '26': (-30.774739583333332, -14256, 184320),\n",
       " '27': (218.07942708333334, 100416, 184320),\n",
       " '28': (302.74956597222223, 139432, 184320),\n",
       " '29': (307.1072048611111, 141440, 184320),\n",
       " '30': (326.6384548611111, 150440, 184320)}"
      ]
     },
     "execution_count": 17,
     "metadata": {},
     "output_type": "execute_result"
    }
   ],
   "source": [
    "calc_elo(players, 1)"
   ]
  },
  {
   "cell_type": "code",
   "execution_count": 8,
   "id": "25277102-0ff6-4eb9-9197-abf0bf1b0e94",
   "metadata": {},
   "outputs": [],
   "source": [
    "elo_other = calc_elo(players, 10)\n",
    "\n",
    "idx_to_name = {\n",
    "    \"0\": \"random\",\n",
    "    \"1\": \"none_1_itrs\",\n",
    "    \"2\": \"none_2_itrs\",\n",
    "    \"3\": \"none_3_itrs\",\n",
    "    \"4\": \"none_4_itrs\",\n",
    "    \"5\": \"none_5_itrs\",\n",
    "    \"6\": \"linear_1_itrs\",\n",
    "    \"7\": \"linear_2_itrs\",\n",
    "    \"8\": \"linear_3_itrs\",\n",
    "    \"9\": \"linear_4_itrs\",\n",
    "    \"10\": \"linear_5_itrs\",\n",
    "    \"11\": \"pq_1_itrs\",\n",
    "    \"12\": \"pq_2_itrs\",\n",
    "    \"13\": \"pq_3_itrs\",\n",
    "    \"14\": \"pq_4_itrs\",\n",
    "    \"15\": \"pq_5_itrs\",\n",
    "    \"16\": \"reset_1_itrs\",\n",
    "    \"17\": \"reset_2_itrs\",\n",
    "    \"18\": \"reset_3_itrs\",\n",
    "    \"19\": \"reset_4_itrs\",\n",
    "    \"20\": \"reset_5_itrs\",\n",
    "    \"21\": \"sym_1_itrs\",\n",
    "    \"22\": \"sym_2_itrs\",\n",
    "    \"23\": \"sym_3_itrs\",\n",
    "    \"24\": \"sym_4_itrs\",\n",
    "    \"25\": \"sym_5_itrs\",\n",
    "    \"26\": \"flamingo_1_itrs\",\n",
    "    \"27\": \"flamingo_2_itrs\",\n",
    "    \"28\": \"flamingo_3_itrs\",\n",
    "    \"29\": \"flamingo_4_itrs\",\n",
    "    \"30\": \"flamingo_5_itrs\"\n",
    "}\n",
    "\n",
    "elo = {}\n",
    "for key in elo_other:\n",
    "    elo[idx_to_name[key]] = elo_other[key][0]\n",
    "\n",
    "# write to pickle\n",
    "with open('elos_2.pkl', 'wb') as f:\n",
    "    pickle.dump(elo, f)"
   ]
  },
  {
   "cell_type": "code",
   "execution_count": 9,
   "id": "dd5a39ad",
   "metadata": {},
   "outputs": [
    {
     "data": {
      "text/plain": [
       "{'random': -307.7587469686037,\n",
       " 'none_1_itrs': -112.79452693941548,\n",
       " 'none_2_itrs': -100.34667780665252,\n",
       " 'none_3_itrs': -81.71830664981202,\n",
       " 'none_4_itrs': -75.53778462573446,\n",
       " 'none_5_itrs': 23.819315216388798,\n",
       " 'linear_1_itrs': -190.72813190032608,\n",
       " 'linear_2_itrs': -30.26025249428985,\n",
       " 'linear_3_itrs': 54.01012364299239,\n",
       " 'linear_4_itrs': -15.086723704841011,\n",
       " 'linear_5_itrs': 46.64905246824832,\n",
       " 'pq_1_itrs': -169.63449634062314,\n",
       " 'pq_2_itrs': -74.0794592043229,\n",
       " 'pq_3_itrs': -130.74581843631492,\n",
       " 'pq_4_itrs': -83.19399308814513,\n",
       " 'pq_5_itrs': -24.63528301170241,\n",
       " 'reset_1_itrs': -130.97151165629526,\n",
       " 'reset_2_itrs': -81.77038970057671,\n",
       " 'reset_3_itrs': 29.218591478995883,\n",
       " 'reset_4_itrs': 160.81509974446752,\n",
       " 'reset_5_itrs': 230.4327775999479,\n",
       " 'sym_1_itrs': -197.81142680432507,\n",
       " 'sym_2_itrs': -30.416501646583946,\n",
       " 'sym_3_itrs': 9.635364391469231,\n",
       " 'sym_4_itrs': 59.947591430168025,\n",
       " 'sym_5_itrs': 99.98209645129963,\n",
       " 'flamingo_1_itrs': -30.937332154230933,\n",
       " 'flamingo_2_itrs': 217.9154843994987,\n",
       " 'flamingo_3_itrs': 302.58516392597693,\n",
       " 'flamingo_4_itrs': 306.94277917329003,\n",
       " 'flamingo_5_itrs': 326.473923210052}"
      ]
     },
     "execution_count": 9,
     "metadata": {},
     "output_type": "execute_result"
    }
   ],
   "source": [
    "elo"
   ]
  },
  {
   "cell_type": "code",
   "execution_count": null,
   "id": "dabf8b6b",
   "metadata": {},
   "outputs": [],
   "source": []
  }
 ],
 "metadata": {
  "kernelspec": {
   "display_name": "Python 3 (ipykernel)",
   "language": "python",
   "name": "python3"
  },
  "language_info": {
   "codemirror_mode": {
    "name": "ipython",
    "version": 3
   },
   "file_extension": ".py",
   "mimetype": "text/x-python",
   "name": "python",
   "nbconvert_exporter": "python",
   "pygments_lexer": "ipython3",
   "version": "3.12.2"
  }
 },
 "nbformat": 4,
 "nbformat_minor": 5
}
