{
 "cells": [
  {
   "cell_type": "code",
   "execution_count": 6,
   "id": "1728845c-2c61-41c6-a0a6-6bae39c5b014",
   "metadata": {},
   "outputs": [],
   "source": [
    "def calc_pr(players):\n",
    "    pr = {}\n",
    "    for player, (elo, score, games) in players.items():\n",
    "        avg_opp = sum(e for p, (e, s, g) in players.items() if p != player)\n",
    "        pr[player] = (avg_opp + 400 * score) / games\n",
    "    return pr"
   ]
  },
  {
   "cell_type": "code",
   "execution_count": 7,
   "id": "a859043d-3899-4ced-88cf-122399738198",
   "metadata": {},
   "outputs": [
    {
     "data": {
      "text/plain": [
       "{'a': 1000.0, 'b': 800.0, 'c': 1200.0}"
      ]
     },
     "execution_count": 7,
     "metadata": {},
     "output_type": "execute_result"
    }
   ],
   "source": [
    "calc_pr({'a': (1000, 0, 2), 'b': (1000, -1, 2), 'c': (1000, 1, 2)})"
   ]
  },
  {
   "cell_type": "code",
   "execution_count": 18,
   "id": "9305af65-975a-4c3b-a126-1045c9873a76",
   "metadata": {},
   "outputs": [],
   "source": [
    "def calc_elo(players, num_iter=10):\n",
    "    '''\n",
    "    Calculates relative elo such that all players have a elo equal to their performance rating\n",
    "\n",
    "    players: dict of key: <player_name>, value: tuple (<score>, <games>) where score is (#wins - #losses) and games is number of games played\n",
    "    i.e. a player that wins all games has score == games and a player that loses all games has score == -games\n",
    "    requries that no player have won all or lost all games for convergence (otherwise elo = +- infinity)\n",
    "    '''\n",
    "    d = {player : (1000, score, games) for player, (score, games) in players.items()}\n",
    "    for i in range(num_iter):\n",
    "        pr = calc_pr(d)\n",
    "        d = {player: (pr[player], score, games) for player, (elo, score, games) in d.items()}\n",
    "    return d"
   ]
  },
  {
   "cell_type": "code",
   "execution_count": 20,
   "id": "e32ddb69-7115-4050-a533-05692f749f57",
   "metadata": {},
   "outputs": [
    {
     "data": {
      "text/plain": [
       "{'a': (1000.0, 0, 2), 'b': (866.796875, -1, 2), 'c': (1133.203125, 1, 2)}"
      ]
     },
     "execution_count": 20,
     "metadata": {},
     "output_type": "execute_result"
    }
   ],
   "source": [
    "calc_elo({'a': (0, 2), 'b': (-1, 2), 'c': (1, 2)}, 10)"
   ]
  },
  {
   "cell_type": "code",
   "execution_count": null,
   "id": "25277102-0ff6-4eb9-9197-abf0bf1b0e94",
   "metadata": {},
   "outputs": [],
   "source": []
  }
 ],
 "metadata": {
  "kernelspec": {
   "display_name": "Python 3 (ipykernel)",
   "language": "python",
   "name": "python3"
  },
  "language_info": {
   "codemirror_mode": {
    "name": "ipython",
    "version": 3
   },
   "file_extension": ".py",
   "mimetype": "text/x-python",
   "name": "python",
   "nbconvert_exporter": "python",
   "pygments_lexer": "ipython3",
   "version": "3.12.1"
  }
 },
 "nbformat": 4,
 "nbformat_minor": 5
}
